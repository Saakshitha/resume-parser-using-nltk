{
 "cells": [
  {
   "cell_type": "code",
   "execution_count": 1,
   "id": "5abd1110",
   "metadata": {
    "scrolled": false
   },
   "outputs": [
    {
     "name": "stdout",
     "output_type": "stream",
     "text": [
      "Requirement already satisfied: nltk in c:\\users\\saksh\\anaconda3\\lib\\site-packages (3.7)\n",
      "Requirement already satisfied: click in c:\\users\\saksh\\anaconda3\\lib\\site-packages (from nltk) (8.0.4)\n",
      "Requirement already satisfied: joblib in c:\\users\\saksh\\anaconda3\\lib\\site-packages (from nltk) (1.2.0)\n",
      "Requirement already satisfied: regex>=2021.8.3 in c:\\users\\saksh\\anaconda3\\lib\\site-packages (from nltk) (2022.7.9)\n",
      "Requirement already satisfied: tqdm in c:\\users\\saksh\\anaconda3\\lib\\site-packages (from nltk) (4.65.0)\n",
      "Requirement already satisfied: colorama in c:\\users\\saksh\\anaconda3\\lib\\site-packages (from click->nltk) (0.4.6)\n"
     ]
    }
   ],
   "source": [
    "# installing NLTK in Collab\n",
    "!pip install nltk"
   ]
  },
  {
   "cell_type": "code",
   "execution_count": 2,
   "id": "99ba9a19",
   "metadata": {},
   "outputs": [
    {
     "name": "stderr",
     "output_type": "stream",
     "text": [
      "[nltk_data] Downloading package omw-1.4 to\n",
      "[nltk_data]     C:\\Users\\saksh\\AppData\\Roaming\\nltk_data...\n",
      "[nltk_data]   Package omw-1.4 is already up-to-date!\n",
      "[nltk_data] Downloading package punkt to\n",
      "[nltk_data]     C:\\Users\\saksh\\AppData\\Roaming\\nltk_data...\n",
      "[nltk_data]   Package punkt is already up-to-date!\n",
      "[nltk_data] Downloading package wordnet to\n",
      "[nltk_data]     C:\\Users\\saksh\\AppData\\Roaming\\nltk_data...\n",
      "[nltk_data]   Package wordnet is already up-to-date!\n"
     ]
    },
    {
     "data": {
      "text/plain": [
       "True"
      ]
     },
     "execution_count": 2,
     "metadata": {},
     "output_type": "execute_result"
    }
   ],
   "source": [
    "#importing the Requirements\n",
    ">>> import nltk\n",
    ">>> nltk.download('omw-1.4')\n",
    "from nltk.corpus import wordnet\n",
    "nltk.download('punkt')\n",
    "nltk.download('wordnet')"
   ]
  },
  {
   "cell_type": "code",
   "execution_count": 3,
   "id": "f43d4d06",
   "metadata": {},
   "outputs": [],
   "source": [
    "# Define job requirements and candidate profiles\n",
    "job_requirements = \"We are looking for a candidate with strong programming skills in python, experience with machine learning an deep learning\"\n",
    "candidate_profiles = [\n",
    "    {\n",
    "        \"name\": \"shiva\",\n",
    "        \"skills\": [\"Python\", \"Java\", \"C++\"],\n",
    "        \"experience\": [\"Machine learning\", \"Data analysis\"],\n",
    "        \"communication\": \"Good\"\n",
    "    },\n",
    "    {\n",
    "        \"name\": \"priya\",\n",
    "        \"skills\": [\"Python\", \"R\", \"JavaScript\"],\n",
    "        \"experience\": [\"Natural language processing\", \"Data visualization\"],\n",
    "        \"communication\": \"excellent\"\n",
    "    },\n",
    "    {\n",
    "        \"name\": \"mohan\",\n",
    "        \"skills\": [\"C++\", \"Java\", \"JavaScript\"],\n",
    "        \"experience\": [\"Database management\", \"Web development\"],\n",
    "        \"communication\": \"Average\"\n",
    "    }\n",
    "]"
   ]
  },
  {
   "cell_type": "code",
   "execution_count": 4,
   "id": "580148a7",
   "metadata": {},
   "outputs": [],
   "source": [
    "# Funtion to Calculate Similarity Score\n",
    "def calculate_similarity_score (words1, words2):\n",
    "   synsets1 = set([synset for word in words1 for synset in wordnet.synsets(word)])\n",
    "   synsets2 = set([synset for word in words2 for synset in wordnet.synsets(word)])\n",
    "   similarity_score = len(synsets1.intersection (synsets2))/(len (synsets1) + len(synsets2))\n",
    "   return similarity_score"
   ]
  },
  {
   "cell_type": "code",
   "execution_count": 5,
   "id": "924e7034",
   "metadata": {},
   "outputs": [],
   "source": [
    "# Function to find the best candidate based on job requirements\n",
    "def find_best_candidate (job_requirements, candidate_profiles):\n",
    "   best_candidate = None\n",
    "   best_score = 0"
   ]
  },
  {
   "cell_type": "code",
   "execution_count": 6,
   "id": "0597ee66",
   "metadata": {},
   "outputs": [],
   "source": [
    "# Function to find the best candidate based on job requirements\n",
    "def find_best_candidate (job_requirements, candidate_profiles):\n",
    "   best_candidate = None\n",
    "   best_score = 0\n",
    "   # Tokenize job requirements\n",
    "   job_tokens = nltk.word_tokenize(job_requirements)\n",
    "   for candidate in candidate_profiles:\n",
    "      # Combine candidate's skills and experience\n",
    "      candidate_words = candidate[\"skills\"] + candidate[\"experience\"]\n",
    "      # Calculate similarity score\n",
    "      score = calculate_similarity_score(job_tokens, candidate_words)\n",
    "      #Update best candidate if the current score is higher\n",
    "      if score > best_score:\n",
    "          best_candidate = candidate[\"name\"]\n",
    "          best_score = score\n",
    "   return best_candidate"
   ]
  },
  {
   "cell_type": "code",
   "execution_count": 7,
   "id": "4a6d3c90",
   "metadata": {},
   "outputs": [
    {
     "name": "stdout",
     "output_type": "stream",
     "text": [
      "The best candidate for the job is: shiva\n"
     ]
    }
   ],
   "source": [
    "#Find the best candidate\n",
    "best_candidate= find_best_candidate(job_requirements, candidate_profiles)\n",
    "print(\"The best candidate for this job is:\", best_candidate)"
   ]
  },
  {
   "cell_type": "code",
   "execution_count": null,
   "id": "31a522eb",
   "metadata": {},
   "outputs": [],
   "source": []
  },
  {
   "cell_type": "code",
   "execution_count": null,
   "id": "fac23377",
   "metadata": {},
   "outputs": [],
   "source": []
  },
  {
   "cell_type": "code",
   "execution_count": null,
   "id": "06a84478",
   "metadata": {},
   "outputs": [],
   "source": []
  }
 ],
 "metadata": {
  "kernelspec": {
   "display_name": "Python 3 (ipykernel)",
   "language": "python",
   "name": "python3"
  },
  "language_info": {
   "codemirror_mode": {
    "name": "ipython",
    "version": 3
   },
   "file_extension": ".py",
   "mimetype": "text/x-python",
   "name": "python",
   "nbconvert_exporter": "python",
   "pygments_lexer": "ipython3",
   "version": "3.11.3"
  }
 },
 "nbformat": 4,
 "nbformat_minor": 5
}
